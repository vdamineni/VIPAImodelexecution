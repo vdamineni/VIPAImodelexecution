{
 "cells": [
  {
   "cell_type": "code",
   "execution_count": null,
   "id": "d4bcd409",
   "metadata": {
    "lines_to_next_cell": 2
   },
   "outputs": [],
   "source": [
    "import sys\n",
    "import time\n",
    "from transformers import pipeline, AutoTokenizer, AutoModelForSequenceClassification"
   ]
  },
  {
   "cell_type": "code",
   "execution_count": null,
   "id": "11f99ccc",
   "metadata": {},
   "outputs": [],
   "source": [
    "start = time.time()\n",
    "# Get input text from command-line argument\n",
    "user_input = sys.argv[1]"
   ]
  },
  {
   "cell_type": "code",
   "execution_count": null,
   "id": "26fe362e",
   "metadata": {},
   "outputs": [],
   "source": [
    "# Load model and tokenizer\n",
    "tokenizer = AutoTokenizer.from_pretrained(\"distilbert-base-uncased-finetuned-sst-2-english\")\n",
    "model = AutoModelForSequenceClassification.from_pretrained(\"distilbert-base-uncased-finetuned-sst-2-english\", trust_remote_code=True)\n",
    "classifier = pipeline(\"text-classification\", model=model, tokenizer=tokenizer)"
   ]
  },
  {
   "cell_type": "code",
   "execution_count": null,
   "id": "e9d1841a",
   "metadata": {},
   "outputs": [],
   "source": [
    "# Run classification\n",
    "result = classifier(user_input)[0]"
   ]
  },
  {
   "cell_type": "code",
   "execution_count": null,
   "id": "e9774b6d",
   "metadata": {},
   "outputs": [],
   "source": [
    "# Print result to stdout\n",
    "print(f\"Label: {result['label']}\")\n",
    "print(f\"Confidence: {result['score']:.4f}\")\n",
    "end = time.time()\n",
    "print(f\"Inference time: {end - start:.2f} seconds\")"
   ]
  }
 ],
 "metadata": {
  "jupytext": {
   "cell_metadata_filter": "-all",
   "main_language": "python",
   "notebook_metadata_filter": "-all"
  }
 },
 "nbformat": 4,
 "nbformat_minor": 5
}
