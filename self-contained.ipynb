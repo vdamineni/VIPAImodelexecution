# Fixed version of your notebook: Streamlit-ready

import streamlit as st
from transformers import DistilBertTokenizer, DistilBertForSequenceClassification
import torch

# Title and description
st.title("SAT-2 English Text Classifier")
st.markdown("Enter a piece of English text, and the model will classify it into the appropriate SAT-2 related category.")

# Load the tokenizer and model
@st.cache_resource
def load_model():
    tokenizer = DistilBertTokenizer.from_pretrained("distilbert-base-uncased")
    model = DistilBertForSequenceClassification.from_pretrained("./results/checkpoint-500")
    return tokenizer, model

tokenizer, model = load_model()

# Text input
user_input = st.text_area("Enter the text to classify:", "")

# Button to trigger classification
if st.button("Classify"):
    if user_input.strip() == "":
        st.warning("Please enter some text.")
    else:
        inputs = tokenizer(user_input, return_tensors="pt", padding=True, truncation=True, max_length=512)
        outputs = model(**inputs)
        logits = outputs.logits
        prediction = torch.argmax(logits, dim=1)

        st.success(f"Predicted Class: {prediction.item()}")

# Optional: Add explanation of classes if available
st.markdown("---")
st.info("Note: Class numbers correspond to the categories defined in the SAT-2 dataset.")
