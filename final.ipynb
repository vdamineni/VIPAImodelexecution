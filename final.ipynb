{
 "cells": [
  {
   "cell_type": "markdown",
   "id": "6bc2160d",
   "metadata": {},
   "source": [
    "# 👋 Cybershuttle Demo Notebook\n",
    "\n",
    "Welcome to the Cybershuttle demo notebook! This notebook walks you through the basic steps of running a scientific or AI computation using Cybershuttle, starting locally and scaling to remote clusters.\n",
    "\n",
    "---\n",
    "\n",
    "**Goals of this notebook:**\n",
    "- Submit a simple Python script that squares a number\n",
    "- Run it both locally and remotely\n",
    "- Learn to track and retrieve results via Cybershuttle"
   ]
  },
  {
   "cell_type": "code",
   "execution_count": null,
   "id": "e3761e5e",
   "metadata": {},
   "outputs": [],
   "source": [
    "# 🛠️ Install and Import Apache Airavata, the software which powers Cybershuttle\n",
    "%pip install -q --no-cache-dir --force-reinstall airavata-python-sdk[notebook]\n",
    "import airavata_jupyter_magic\n"
   ]
  },
  {
   "cell_type": "markdown",
   "id": "9b4b1326",
   "metadata": {},
   "source": [
    "## 💻 Step 1: Run simple scripts locally on the Cybershuttle hub. The same example can be replicated locally. "
   ]
  },
  {
   "cell_type": "code",
   "execution_count": null,
   "id": "e126455d",
   "metadata": {},
   "outputs": [],
   "source": [
    "# factorial example\n",
    "\n",
    "import socket\n",
    "import time\n",
    "import math\n",
    "\n",
    "# Input value\n",
    "n = 10  # You can change this to any integer\n",
    "\n",
    "# Compute factorial\n",
    "result = math.factorial(n)\n",
    "\n",
    "# Metadata\n",
    "hostname = socket.gethostname()\n",
    "timestamp = time.strftime('%Y-%m-%d %H:%M:%S')\n",
    "\n",
    "# Output\n",
    "print(\"===== Job Metadata =====\")\n",
    "print(f\"Hostname   : {hostname}\")\n",
    "print(f\"Timestamp  : {timestamp}\")\n",
    "print(\"========================\\n\")\n",
    "print(f\"{n}! = {result}\")"
   ]
  },
  {
   "cell_type": "markdown",
   "id": "af9ae0f4",
   "metadata": {},
   "source": [
    "## 🚀 Step 3: Authenticate with Cybershuttle"
   ]
  },
  {
   "cell_type": "code",
   "execution_count": null,
   "id": "642e60ad",
   "metadata": {},
   "outputs": [],
   "source": [
    "%authenticate\n",
    "%request_runtime hpc_cpu --file=cybershuttle.yml --walltime=60 --use=NeuroData25VC1:cloud,expanse:shared,anvil:shared\n",
    "%switch_runtime hpc_cpu"
   ]
  },
  {
   "cell_type": "markdown",
   "id": "82096e8d",
   "metadata": {},
   "source": [
    "## 📡 Step 4: Just write code and run as if you would run locally, cybershuttle will move the required data, code and execute remotely. "
   ]
  },
  {
   "cell_type": "code",
   "execution_count": null,
   "id": "d5cba825",
   "metadata": {},
   "outputs": [],
   "source": [
    "import socket\n",
    "import time\n",
    "import random\n",
    "\n",
    "# Parameters\n",
    "num_points = 100_000_000  # Heavier workload than before\n",
    "inside_circle = 0\n",
    "\n",
    "# Metadata\n",
    "hostname = socket.gethostname()\n",
    "timestamp = time.strftime('%Y-%m-%d %H:%M:%S')\n",
    "\n",
    "# Start computation\n",
    "start_time = time.time()\n",
    "for _ in range(num_points):\n",
    "    x, y = random.random(), random.random()\n",
    "    if x*x + y*y <= 1.0:\n",
    "        inside_circle += 1\n",
    "pi_estimate = (4.0 * inside_circle) / num_points\n",
    "end_time = time.time()\n",
    "\n",
    "# Output\n",
    "print(\"===== Job Metadata =====\")\n",
    "print(f\"Hostname   : {hostname}\")\n",
    "print(f\"Timestamp  : {timestamp}\")\n",
    "print(\"========================\\n\")\n",
    "print(f\"Estimated Pi: {pi_estimate}\")\n",
    "print(f\"Elapsed Time: {end_time - start_time:.2f} seconds\")"
   ]
  },
  {
   "cell_type": "markdown",
   "id": "e787ba63",
   "metadata": {},
   "source": [
    "## ✅ That's it!\n",
    "\n",
    "You’ve now used Cybershuttle to run the same computation locally and remotely. You can use this pattern for scaling your research workflows!\n",
    "\n",
    "---\n",
    "\n",
    "### 🔗 Resources:\n",
    "- [Cybershuttle](https://cybershuttle.org)\n",
    "- [Cybershuttle GitHub](https://github.com/cyber-shuttle)"
   ]
  }
 ],
 "metadata": {
  "language_info": {
   "name": "python"
  }
 },
 "nbformat": 4,
 "nbformat_minor": 5
}
