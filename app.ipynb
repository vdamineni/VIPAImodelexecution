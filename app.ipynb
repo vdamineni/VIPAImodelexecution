{
 "cells": [
  {
   "cell_type": "code",
   "execution_count": null,
   "id": "e21389ee",
   "metadata": {},
   "outputs": [],
   "source": [
    "import streamlit as st\n",
    "from transformers import pipeline, AutoTokenizer, AutoModelForSequenceClassification\n",
    "import matplotlib.pyplot as plt"
   ]
  },
  {
   "cell_type": "code",
   "execution_count": null,
   "id": "67b002b4",
   "metadata": {},
   "outputs": [],
   "source": [
    "# Page title\n",
    "st.set_page_config(page_title=\"SAT-2 Text Classifier\", layout=\"centered\")\n",
    "st.title(\"📚 SAT-2 English Text Classifier\")\n",
    "st.write(\n",
    "    \"This app uses a fine-tuned DistilBERT model to classify text related to SAT-2 English exam topics.\"\n",
    ")"
   ]
  },
  {
   "cell_type": "code",
   "execution_count": null,
   "id": "78279451",
   "metadata": {},
   "outputs": [],
   "source": [
    "# Text input\n",
    "user_input = st.text_area(\"Enter your text below:\", height=200)"
   ]
  },
  {
   "cell_type": "code",
   "execution_count": null,
   "id": "c902e659",
   "metadata": {},
   "outputs": [],
   "source": [
    "# Help and examples\n",
    "with st.expander(\"💡 Help & Examples\"):\n",
    "    st.markdown(\n",
    "        \"\"\"\n",
    "    - This model is fine-tuned to recognize topics in English SAT-2 exam texts.\n",
    "    - Try pasting a paragraph from a literature article or grammar question.\n",
    "    - **Example Input:** _'The protagonist's moral struggle illustrates the conflict between personal duty and societal norms.'_\n",
    "    \"\"\"\n",
    "    )"
   ]
  },
  {
   "cell_type": "code",
   "execution_count": null,
   "id": "96c2511d",
   "metadata": {},
   "outputs": [],
   "source": [
    "# Button to run classification\n",
    "if st.button(\"Classify\"):\n",
    "    if user_input.strip() == \"\":\n",
    "        st.error(\"❗ Please enter some text to classify.\")\n",
    "    else:\n",
    "        with st.spinner(\"Classifying...\"):\n",
    "            try:\n",
    "                # Load model and tokenizer\n",
    "                tokenizer = AutoTokenizer.from_pretrained(\n",
    "                    \"distilbert-base-uncased-finetuned-sst-2-english\"\n",
    "                )\n",
    "                model = AutoModelForSequenceClassification.from_pretrained(\n",
    "                    \"distilbert-base-uncased-finetuned-sst-2-english\",\n",
    "                    trust_remote_code=True,\n",
    "                )\n",
    "\n",
    "                # Prepare pipeline\n",
    "                classifier = pipeline(\n",
    "                    \"text-classification\", model=model, tokenizer=tokenizer\n",
    "                )\n",
    "\n",
    "                # Perform classification\n",
    "                result = classifier(user_input)[0]\n",
    "\n",
    "                # Display results\n",
    "                st.success(\"✅ Classification Result\")\n",
    "                st.markdown(f\"### 🏷️ Predicted Label: `{result['label']}`\")\n",
    "                st.markdown(f\"### 🔢 Confidence Score: `{result['score']:.4f}`\")\n",
    "\n",
    "                # Optional bar visualization\n",
    "                st.bar_chart({\"Confidence\": [result[\"score\"]]})\n",
    "\n",
    "            except Exception as e:\n",
    "                st.error(\"⚠️ An error occurred during classification.\")\n",
    "                st.text(f\"Details: {e}\")"
   ]
  }
 ],
 "metadata": {
  "jupytext": {
   "cell_metadata_filter": "-all",
   "main_language": "python",
   "notebook_metadata_filter": "-all"
  }
 },
 "nbformat": 4,
 "nbformat_minor": 5
}
