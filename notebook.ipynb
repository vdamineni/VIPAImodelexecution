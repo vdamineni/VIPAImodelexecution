{
 "cells": [
  {
   "cell_type": "code",
   "execution_count": 3,
   "id": "2e7f89c8-9cad-4de6-ba15-c823a61e6268",
   "metadata": {},
   "outputs": [
    {
     "name": "stdout",
     "output_type": "stream",
     "text": [
      "\u001b[31mERROR: pip's dependency resolver does not currently take into account all the packages that are installed. This behaviour is the source of the following dependency conflicts.\n",
      "pyopenssl 23.2.0 requires cryptography!=40.0.0,!=40.0.1,<42,>=38.0.0, but you have cryptography 44.0.2 which is incompatible.\u001b[0m\u001b[31m\n",
      "\u001b[0mNote: you may need to restart the kernel to use updated packages.\n",
      "\n",
      "Loaded airavata_jupyter_magic (2.0.12) \n",
      "(current runtime = local)\n",
      "\n",
      "  %authenticate                      -- Authenticate to access high-performance runtimes.\n",
      "  %request_runtime <rt> [args]       -- Request a runtime named <rt> with configuration <args>. Call multiple times to request multiple runtimes.\n",
      "  %restart_runtime <rt>              -- Restart runtime <rt>. Run this if you install new dependencies or if the runtime hangs.\n",
      "  %stop_runtime <rt>                 -- Stop runtime <rt> when no longer needed.\n",
      "  %switch_runtime <rt>               -- Switch active runtime to <rt>. All subsequent executions will use this runtime.\n",
      "  %%run_on <rt>                      -- Force a cell to always execute on <rt>, regardless of the active runtime.\n",
      "  %stat_runtime <rt>                 -- Show the status of runtime <rt>.\n",
      "  %copy_data <r1:file1> <r2:file2>   -- Copy <file1> in <r1> to <file2> in <r2>.\n",
      "\n"
     ]
    }
   ],
   "source": [
    "%pip install -q --no-cache-dir --force-reinstall airavata-python-sdk[notebook]\n",
    "import airavata_jupyter_magic"
   ]
  },
  {
   "cell_type": "code",
   "execution_count": 4,
   "id": "ae68415e-5256-4889-8e90-0b6398dec2be",
   "metadata": {
    "scrolled": true
   },
   "outputs": [
    {
     "name": "stdout",
     "output_type": "stream",
     "text": [
      "\u001b[33mWARNING: The directory '/home/jovyan/.cache/pip' or its parent directory is not owned or is not writable by the current user. The cache has been disabled. Check the permissions and owner of that directory. If executing pip with sudo, you should use sudo's -H flag.\u001b[0m\u001b[33m\n",
      "\u001b[0mRequirement already satisfied: streamlit in /opt/conda/lib/python3.11/site-packages (1.44.1)\n",
      "Requirement already satisfied: matplotlib in /opt/conda/lib/python3.11/site-packages (3.10.1)\n",
      "Requirement already satisfied: transformers[torch] in /opt/conda/lib/python3.11/site-packages (4.51.3)\n",
      "Requirement already satisfied: filelock in /opt/conda/lib/python3.11/site-packages (from transformers[torch]) (3.18.0)\n",
      "Requirement already satisfied: huggingface-hub<1.0,>=0.30.0 in /opt/conda/lib/python3.11/site-packages (from transformers[torch]) (0.30.2)\n",
      "Requirement already satisfied: numpy>=1.17 in /opt/conda/lib/python3.11/site-packages (from transformers[torch]) (2.2.5)\n",
      "Requirement already satisfied: packaging>=20.0 in /opt/conda/lib/python3.11/site-packages (from transformers[torch]) (23.2)\n",
      "Requirement already satisfied: pyyaml>=5.1 in /opt/conda/lib/python3.11/site-packages (from transformers[torch]) (6.0.1)\n",
      "Requirement already satisfied: regex!=2019.12.17 in /opt/conda/lib/python3.11/site-packages (from transformers[torch]) (2024.11.6)\n",
      "Requirement already satisfied: requests in /opt/conda/lib/python3.11/site-packages (from transformers[torch]) (2.32.3)\n",
      "Requirement already satisfied: tokenizers<0.22,>=0.21 in /opt/conda/lib/python3.11/site-packages (from transformers[torch]) (0.21.1)\n",
      "Requirement already satisfied: safetensors>=0.4.3 in /opt/conda/lib/python3.11/site-packages (from transformers[torch]) (0.5.3)\n",
      "Requirement already satisfied: tqdm>=4.27 in /opt/conda/lib/python3.11/site-packages (from transformers[torch]) (4.66.1)\n",
      "Requirement already satisfied: torch>=2.0 in /opt/conda/lib/python3.11/site-packages (from transformers[torch]) (2.7.0)\n",
      "Requirement already satisfied: accelerate>=0.26.0 in /opt/conda/lib/python3.11/site-packages (from transformers[torch]) (1.6.0)\n",
      "Requirement already satisfied: altair<6,>=4.0 in /opt/conda/lib/python3.11/site-packages (from streamlit) (5.5.0)\n",
      "Requirement already satisfied: blinker<2,>=1.0.0 in /opt/conda/lib/python3.11/site-packages (from streamlit) (1.6.3)\n",
      "Requirement already satisfied: cachetools<6,>=4.0 in /opt/conda/lib/python3.11/site-packages (from streamlit) (5.5.2)\n",
      "Requirement already satisfied: click<9,>=7.0 in /opt/conda/lib/python3.11/site-packages (from streamlit) (8.1.8)\n",
      "Requirement already satisfied: pandas<3,>=1.4.0 in /opt/conda/lib/python3.11/site-packages (from streamlit) (2.2.3)\n",
      "Requirement already satisfied: pillow<12,>=7.1.0 in /opt/conda/lib/python3.11/site-packages (from streamlit) (11.2.1)\n",
      "Requirement already satisfied: protobuf<6,>=3.20 in /opt/conda/lib/python3.11/site-packages (from streamlit) (5.29.4)\n",
      "Requirement already satisfied: pyarrow>=7.0 in /opt/conda/lib/python3.11/site-packages (from streamlit) (20.0.0)\n",
      "Requirement already satisfied: tenacity<10,>=8.1.0 in /opt/conda/lib/python3.11/site-packages (from streamlit) (9.1.2)\n",
      "Requirement already satisfied: toml<2,>=0.10.1 in /opt/conda/lib/python3.11/site-packages (from streamlit) (0.10.2)\n",
      "Requirement already satisfied: typing-extensions<5,>=4.4.0 in /opt/conda/lib/python3.11/site-packages (from streamlit) (4.13.2)\n",
      "Requirement already satisfied: watchdog<7,>=2.1.5 in /opt/conda/lib/python3.11/site-packages (from streamlit) (6.0.0)\n",
      "Requirement already satisfied: gitpython!=3.1.19,<4,>=3.0.7 in /opt/conda/lib/python3.11/site-packages (from streamlit) (3.1.44)\n",
      "Requirement already satisfied: pydeck<1,>=0.8.0b4 in /opt/conda/lib/python3.11/site-packages (from streamlit) (0.9.1)\n",
      "Requirement already satisfied: tornado<7,>=6.0.3 in /opt/conda/lib/python3.11/site-packages (from streamlit) (6.3.3)\n",
      "Requirement already satisfied: contourpy>=1.0.1 in /opt/conda/lib/python3.11/site-packages (from matplotlib) (1.3.2)\n",
      "Requirement already satisfied: cycler>=0.10 in /opt/conda/lib/python3.11/site-packages (from matplotlib) (0.12.1)\n",
      "Requirement already satisfied: fonttools>=4.22.0 in /opt/conda/lib/python3.11/site-packages (from matplotlib) (4.57.0)\n",
      "Requirement already satisfied: kiwisolver>=1.3.1 in /opt/conda/lib/python3.11/site-packages (from matplotlib) (1.4.8)\n",
      "Requirement already satisfied: pyparsing>=2.3.1 in /opt/conda/lib/python3.11/site-packages (from matplotlib) (3.2.3)\n",
      "Requirement already satisfied: python-dateutil>=2.7 in /opt/conda/lib/python3.11/site-packages (from matplotlib) (2.9.0.post0)\n",
      "Requirement already satisfied: psutil in /opt/conda/lib/python3.11/site-packages (from accelerate>=0.26.0->transformers[torch]) (5.9.5)\n",
      "Requirement already satisfied: jinja2 in /opt/conda/lib/python3.11/site-packages (from altair<6,>=4.0->streamlit) (3.1.2)\n",
      "Requirement already satisfied: jsonschema>=3.0 in /opt/conda/lib/python3.11/site-packages (from altair<6,>=4.0->streamlit) (4.19.1)\n",
      "Requirement already satisfied: narwhals>=1.14.2 in /opt/conda/lib/python3.11/site-packages (from altair<6,>=4.0->streamlit) (1.36.0)\n",
      "Requirement already satisfied: gitdb<5,>=4.0.1 in /opt/conda/lib/python3.11/site-packages (from gitpython!=3.1.19,<4,>=3.0.7->streamlit) (4.0.12)\n",
      "Requirement already satisfied: fsspec>=2023.5.0 in /opt/conda/lib/python3.11/site-packages (from huggingface-hub<1.0,>=0.30.0->transformers[torch]) (2025.3.2)\n",
      "Requirement already satisfied: pytz>=2020.1 in /opt/conda/lib/python3.11/site-packages (from pandas<3,>=1.4.0->streamlit) (2025.2)\n",
      "Requirement already satisfied: tzdata>=2022.7 in /opt/conda/lib/python3.11/site-packages (from pandas<3,>=1.4.0->streamlit) (2025.2)\n",
      "Requirement already satisfied: six>=1.5 in /opt/conda/lib/python3.11/site-packages (from python-dateutil>=2.7->matplotlib) (1.17.0)\n",
      "Requirement already satisfied: charset-normalizer<4,>=2 in /opt/conda/lib/python3.11/site-packages (from requests->transformers[torch]) (3.4.1)\n",
      "Requirement already satisfied: idna<4,>=2.5 in /opt/conda/lib/python3.11/site-packages (from requests->transformers[torch]) (3.10)\n",
      "Requirement already satisfied: urllib3<3,>=1.21.1 in /opt/conda/lib/python3.11/site-packages (from requests->transformers[torch]) (2.4.0)\n",
      "Requirement already satisfied: certifi>=2017.4.17 in /opt/conda/lib/python3.11/site-packages (from requests->transformers[torch]) (2025.4.26)\n",
      "Requirement already satisfied: sympy>=1.13.3 in /opt/conda/lib/python3.11/site-packages (from torch>=2.0->transformers[torch]) (1.13.3)\n",
      "Requirement already satisfied: networkx in /opt/conda/lib/python3.11/site-packages (from torch>=2.0->transformers[torch]) (3.4.2)\n",
      "Requirement already satisfied: nvidia-cuda-nvrtc-cu12==12.6.77 in /opt/conda/lib/python3.11/site-packages (from torch>=2.0->transformers[torch]) (12.6.77)\n",
      "Requirement already satisfied: nvidia-cuda-runtime-cu12==12.6.77 in /opt/conda/lib/python3.11/site-packages (from torch>=2.0->transformers[torch]) (12.6.77)\n",
      "Requirement already satisfied: nvidia-cuda-cupti-cu12==12.6.80 in /opt/conda/lib/python3.11/site-packages (from torch>=2.0->transformers[torch]) (12.6.80)\n",
      "Requirement already satisfied: nvidia-cudnn-cu12==9.5.1.17 in /opt/conda/lib/python3.11/site-packages (from torch>=2.0->transformers[torch]) (9.5.1.17)\n",
      "Requirement already satisfied: nvidia-cublas-cu12==12.6.4.1 in /opt/conda/lib/python3.11/site-packages (from torch>=2.0->transformers[torch]) (12.6.4.1)\n",
      "Requirement already satisfied: nvidia-cufft-cu12==11.3.0.4 in /opt/conda/lib/python3.11/site-packages (from torch>=2.0->transformers[torch]) (11.3.0.4)\n",
      "Requirement already satisfied: nvidia-curand-cu12==10.3.7.77 in /opt/conda/lib/python3.11/site-packages (from torch>=2.0->transformers[torch]) (10.3.7.77)\n",
      "Requirement already satisfied: nvidia-cusolver-cu12==11.7.1.2 in /opt/conda/lib/python3.11/site-packages (from torch>=2.0->transformers[torch]) (11.7.1.2)\n",
      "Requirement already satisfied: nvidia-cusparse-cu12==12.5.4.2 in /opt/conda/lib/python3.11/site-packages (from torch>=2.0->transformers[torch]) (12.5.4.2)\n",
      "Requirement already satisfied: nvidia-cusparselt-cu12==0.6.3 in /opt/conda/lib/python3.11/site-packages (from torch>=2.0->transformers[torch]) (0.6.3)\n",
      "Requirement already satisfied: nvidia-nccl-cu12==2.26.2 in /opt/conda/lib/python3.11/site-packages (from torch>=2.0->transformers[torch]) (2.26.2)\n",
      "Requirement already satisfied: nvidia-nvtx-cu12==12.6.77 in /opt/conda/lib/python3.11/site-packages (from torch>=2.0->transformers[torch]) (12.6.77)\n",
      "Requirement already satisfied: nvidia-nvjitlink-cu12==12.6.85 in /opt/conda/lib/python3.11/site-packages (from torch>=2.0->transformers[torch]) (12.6.85)\n",
      "Requirement already satisfied: nvidia-cufile-cu12==1.11.1.6 in /opt/conda/lib/python3.11/site-packages (from torch>=2.0->transformers[torch]) (1.11.1.6)\n",
      "Requirement already satisfied: triton==3.3.0 in /opt/conda/lib/python3.11/site-packages (from torch>=2.0->transformers[torch]) (3.3.0)\n",
      "Requirement already satisfied: setuptools>=40.8.0 in /opt/conda/lib/python3.11/site-packages (from triton==3.3.0->torch>=2.0->transformers[torch]) (68.2.2)\n",
      "Requirement already satisfied: smmap<6,>=3.0.1 in /opt/conda/lib/python3.11/site-packages (from gitdb<5,>=4.0.1->gitpython!=3.1.19,<4,>=3.0.7->streamlit) (5.0.2)\n",
      "Requirement already satisfied: MarkupSafe>=2.0 in /opt/conda/lib/python3.11/site-packages (from jinja2->altair<6,>=4.0->streamlit) (2.1.3)\n",
      "Requirement already satisfied: attrs>=22.2.0 in /opt/conda/lib/python3.11/site-packages (from jsonschema>=3.0->altair<6,>=4.0->streamlit) (23.1.0)\n",
      "Requirement already satisfied: jsonschema-specifications>=2023.03.6 in /opt/conda/lib/python3.11/site-packages (from jsonschema>=3.0->altair<6,>=4.0->streamlit) (2023.7.1)\n",
      "Requirement already satisfied: referencing>=0.28.4 in /opt/conda/lib/python3.11/site-packages (from jsonschema>=3.0->altair<6,>=4.0->streamlit) (0.30.2)\n",
      "Requirement already satisfied: rpds-py>=0.7.1 in /opt/conda/lib/python3.11/site-packages (from jsonschema>=3.0->altair<6,>=4.0->streamlit) (0.10.6)\n",
      "Requirement already satisfied: mpmath<1.4,>=1.1.0 in /opt/conda/lib/python3.11/site-packages (from sympy>=1.13.3->torch>=2.0->transformers[torch]) (1.3.0)\n",
      "Note: you may need to restart the kernel to use updated packages.\n"
     ]
    }
   ],
   "source": [
    "%pip install 'transformers[torch]' streamlit matplotlib"
   ]
  },
  {
   "cell_type": "code",
   "execution_count": 10,
   "id": "bd1af0c5-7796-4688-ab59-b7d776c36416",
   "metadata": {},
   "outputs": [
    {
     "data": {
      "application/vnd.jupyter.widget-view+json": {
       "model_id": "",
       "version_major": 2,
       "version_minor": 0
      },
      "text/plain": [
       "Output()"
      ]
     },
     "metadata": {},
     "output_type": "display_data"
    },
    {
     "data": {
      "text/html": [
       "<pre style=\"white-space:pre;overflow-x:auto;line-height:normal;font-family:Menlo,'DejaVu Sans Mono',consolas,'Courier New',monospace\">Authenticated.\n",
       "</pre>\n"
      ],
      "text/plain": [
       "Authenticated.\n"
      ]
     },
     "metadata": {},
     "output_type": "display_data"
    },
    {
     "data": {
      "text/html": [
       "<pre style=\"white-space:pre;overflow-x:auto;line-height:normal;font-family:Menlo,'DejaVu Sans Mono',consolas,'Courier New',monospace\"></pre>\n"
      ],
      "text/plain": []
     },
     "metadata": {},
     "output_type": "display_data"
    },
    {
     "data": {
      "text/html": [
       "<pre style=\"white-space:pre;overflow-x:auto;line-height:normal;font-family:Menlo,'DejaVu Sans Mono',consolas,'Courier New',monospace\"></pre>\n"
      ],
      "text/plain": []
     },
     "metadata": {},
     "output_type": "display_data"
    },
    {
     "name": "stdout",
     "output_type": "stream",
     "text": [
      "Requesting runtime=hpc_cpu\n",
      "cpuCount: 4\n",
      "experimentName: CS_Agent\n",
      "group: Default\n",
      "libraries:\n",
      "- python=3.10\n",
      "- pip\n",
      "memory: 4096\n",
      "mounts: []\n",
      "nodeCount: 1\n",
      "pip:\n",
      "- streamlit\n",
      "- transformers\n",
      "- torch\n",
      "- matplotlib\n",
      "queue: cloud\n",
      "remoteCluster: NeuroData25VC1\n",
      "wallTime: 60\n",
      "\n",
      "Requested runtime=hpc_cpu. state=CONFIGURING_WORKSPACE\n",
      "Switched to runtime=hpc_cpu.\n"
     ]
    }
   ],
   "source": [
    "%authenticate\n",
    "%request_runtime hpc_cpu --file=cybershuttle.yml --walltime=60 --use=NeuroData25VC1:cloud,expanse:shared,anvil:shared\n",
    "%switch_runtime hpc_cpu"
   ]
  },
  {
   "cell_type": "code",
   "execution_count": 11,
   "id": "c6badcb4",
   "metadata": {},
   "outputs": [
    {
     "name": "stdout",
     "output_type": "stream",
     "text": [
      "\u001b[2K\u001b[32m⠇\u001b[0m Connecting to=hpc_cpu... status=CONNECTEDWORKSPACE\n",
      "\u001b[1A\u001b[2K\u001b[2J\u001b[H"
     ]
    },
    {
     "data": {
      "text/html": [
       "\n",
       "                    <div style=\"\n",
       "                        color: #a71d5d;\n",
       "                        background-color: #fdd;\n",
       "                        border: 1px solid #a71d5d;\n",
       "                        padding: 5px;\n",
       "                        border-radius: 5px;\n",
       "                        font-family: Consolas, 'Courier New', monospace;\n",
       "                        white-space: pre-wrap;\n",
       "                    \">\n",
       "                        /scratch/envs/f763bffb/lib/python3.10/site-packages/tqdm/auto.py:21: TqdmWarning: IProgress not found. Please update jupyter and ipywidgets. See https://ipywidgets.readthedocs.io/en/stable/user_install.html\n",
       "  from .autonotebook import tqdm as notebook_tqdm\n",
       "                    </div>\n",
       "                    "
      ],
      "text/plain": [
       "<IPython.core.display.HTML object>"
      ]
     },
     "metadata": {},
     "output_type": "display_data"
    },
    {
     "data": {
      "text/html": [
       "\n",
       "                    <div style=\"\n",
       "                        color: #a71d5d;\n",
       "                        background-color: #fdd;\n",
       "                        border: 1px solid #a71d5d;\n",
       "                        padding: 5px;\n",
       "                        border-radius: 5px;\n",
       "                        font-family: Consolas, 'Courier New', monospace;\n",
       "                        white-space: pre-wrap;\n",
       "                    \">\n",
       "                        Xet Storage is enabled for this repo, but the 'hf_xet' package is not installed. Falling back to regular HTTP download. For better performance, install the package with: `pip install huggingface_hub[hf_xet]` or `pip install hf_xet`\n",
       "                    </div>\n",
       "                    "
      ],
      "text/plain": [
       "<IPython.core.display.HTML object>"
      ]
     },
     "metadata": {},
     "output_type": "display_data"
    },
    {
     "data": {
      "text/html": [
       "\n",
       "                    <div style=\"\n",
       "                        color: #a71d5d;\n",
       "                        background-color: #fdd;\n",
       "                        border: 1px solid #a71d5d;\n",
       "                        padding: 5px;\n",
       "                        border-radius: 5px;\n",
       "                        font-family: Consolas, 'Courier New', monospace;\n",
       "                        white-space: pre-wrap;\n",
       "                    \">\n",
       "                        Device set to use cpu\n",
       "                    </div>\n",
       "                    "
      ],
      "text/plain": [
       "<IPython.core.display.HTML object>"
      ]
     },
     "metadata": {},
     "output_type": "display_data"
    },
    {
     "name": "stdout",
     "output_type": "stream",
     "text": [
      "Label: NEGATIVE\n",
      "Confidence: 0.9471\n",
      "Inference time: 3.01 seconds\n"
     ]
    }
   ],
   "source": [
    "import sys\n",
    "import time\n",
    "from transformers import pipeline, AutoTokenizer, AutoModelForSequenceClassification\n",
    "\n",
    "\n",
    "start = time.time()\n",
    "# Get input text from command-line argument\n",
    "user_input = \"The protagonist faced internal conflict.\" #sys.argv[1]\n",
    "\n",
    "# Load model and tokenizer\n",
    "tokenizer = AutoTokenizer.from_pretrained(\"distilbert-base-uncased-finetuned-sst-2-english\")\n",
    "model = AutoModelForSequenceClassification.from_pretrained(\"distilbert-base-uncased-finetuned-sst-2-english\", trust_remote_code=True)\n",
    "classifier = pipeline(\"text-classification\", model=model, tokenizer=tokenizer)\n",
    "\n",
    "# Run classification\n",
    "result = classifier(user_input)[0]\n",
    "\n",
    "# Print result to stdout\n",
    "print(f\"Label: {result['label']}\")\n",
    "print(f\"Confidence: {result['score']:.4f}\")\n",
    "end = time.time()\n",
    "print(f\"Inference time: {end - start:.2f} seconds\")"
   ]
  },
  {
   "cell_type": "code",
   "execution_count": 12,
   "id": "359b814c-3391-42b9-abfa-3a942e5e6492",
   "metadata": {},
   "outputs": [
    {
     "name": "stdout",
     "output_type": "stream",
     "text": [
      "\u001b[2K\u001b[32m⠸\u001b[0m Connecting to=hpc_cpu... status=CONNECTED\n",
      "\u001b[1A\u001b[2K\u001b[2J\u001b[H"
     ]
    },
    {
     "data": {
      "text/html": [
       "\n",
       "                    <div style=\"\n",
       "                        color: #a71d5d;\n",
       "                        background-color: #fdd;\n",
       "                        border: 1px solid #a71d5d;\n",
       "                        padding: 5px;\n",
       "                        border-radius: 5px;\n",
       "                        font-family: Consolas, 'Courier New', monospace;\n",
       "                        white-space: pre-wrap;\n",
       "                    \">\n",
       "                        2025-04-28 00:15:59.383 WARNING streamlit.runtime.scriptrunner_utils.script_run_context: Thread 'MainThread': missing ScriptRunContext! This warning can be ignored when running in bare mode.\n",
       "                    </div>\n",
       "                    "
      ],
      "text/plain": [
       "<IPython.core.display.HTML object>"
      ]
     },
     "metadata": {},
     "output_type": "display_data"
    },
    {
     "data": {
      "text/html": [
       "\n",
       "                    <div style=\"\n",
       "                        color: #a71d5d;\n",
       "                        background-color: #fdd;\n",
       "                        border: 1px solid #a71d5d;\n",
       "                        padding: 5px;\n",
       "                        border-radius: 5px;\n",
       "                        font-family: Consolas, 'Courier New', monospace;\n",
       "                        white-space: pre-wrap;\n",
       "                    \">\n",
       "                        2025-04-28 00:15:59.385 WARNING streamlit.runtime.scriptrunner_utils.script_run_context: Thread 'MainThread': missing ScriptRunContext! This warning can be ignored when running in bare mode.\n",
       "                    </div>\n",
       "                    "
      ],
      "text/plain": [
       "<IPython.core.display.HTML object>"
      ]
     },
     "metadata": {},
     "output_type": "display_data"
    },
    {
     "data": {
      "text/html": [
       "\n",
       "                    <div style=\"\n",
       "                        color: #a71d5d;\n",
       "                        background-color: #fdd;\n",
       "                        border: 1px solid #a71d5d;\n",
       "                        padding: 5px;\n",
       "                        border-radius: 5px;\n",
       "                        font-family: Consolas, 'Courier New', monospace;\n",
       "                        white-space: pre-wrap;\n",
       "                    \">\n",
       "                        2025-04-28 00:15:59.463 \n",
       "  \u001b[33m\u001b[1mWarning:\u001b[0m to view this Streamlit app on a browser, run it with the following\n",
       "  command:\n",
       "\n",
       "    streamlit run /scratch/envs/f763bffb/lib/python3.10/site-packages/ipykernel_launcher.py [ARGUMENTS]\n",
       "                    </div>\n",
       "                    "
      ],
      "text/plain": [
       "<IPython.core.display.HTML object>"
      ]
     },
     "metadata": {},
     "output_type": "display_data"
    },
    {
     "data": {
      "text/html": [
       "\n",
       "                    <div style=\"\n",
       "                        color: #a71d5d;\n",
       "                        background-color: #fdd;\n",
       "                        border: 1px solid #a71d5d;\n",
       "                        padding: 5px;\n",
       "                        border-radius: 5px;\n",
       "                        font-family: Consolas, 'Courier New', monospace;\n",
       "                        white-space: pre-wrap;\n",
       "                    \">\n",
       "                        2025-04-28 00:15:59.463 Thread 'MainThread': missing ScriptRunContext! This warning can be ignored when running in bare mode.\n",
       "                    </div>\n",
       "                    "
      ],
      "text/plain": [
       "<IPython.core.display.HTML object>"
      ]
     },
     "metadata": {},
     "output_type": "display_data"
    },
    {
     "data": {
      "text/html": [
       "\n",
       "                    <div style=\"\n",
       "                        color: #a71d5d;\n",
       "                        background-color: #fdd;\n",
       "                        border: 1px solid #a71d5d;\n",
       "                        padding: 5px;\n",
       "                        border-radius: 5px;\n",
       "                        font-family: Consolas, 'Courier New', monospace;\n",
       "                        white-space: pre-wrap;\n",
       "                    \">\n",
       "                        2025-04-28 00:15:59.464 Thread 'MainThread': missing ScriptRunContext! This warning can be ignored when running in bare mode.\n",
       "                    </div>\n",
       "                    "
      ],
      "text/plain": [
       "<IPython.core.display.HTML object>"
      ]
     },
     "metadata": {},
     "output_type": "display_data"
    },
    {
     "data": {
      "text/html": [
       "\n",
       "                    <div style=\"\n",
       "                        color: #a71d5d;\n",
       "                        background-color: #fdd;\n",
       "                        border: 1px solid #a71d5d;\n",
       "                        padding: 5px;\n",
       "                        border-radius: 5px;\n",
       "                        font-family: Consolas, 'Courier New', monospace;\n",
       "                        white-space: pre-wrap;\n",
       "                    \">\n",
       "                        2025-04-28 00:15:59.465 Thread 'MainThread': missing ScriptRunContext! This warning can be ignored when running in bare mode.\n",
       "                    </div>\n",
       "                    "
      ],
      "text/plain": [
       "<IPython.core.display.HTML object>"
      ]
     },
     "metadata": {},
     "output_type": "display_data"
    },
    {
     "data": {
      "text/html": [
       "\n",
       "                    <div style=\"\n",
       "                        color: #a71d5d;\n",
       "                        background-color: #fdd;\n",
       "                        border: 1px solid #a71d5d;\n",
       "                        padding: 5px;\n",
       "                        border-radius: 5px;\n",
       "                        font-family: Consolas, 'Courier New', monospace;\n",
       "                        white-space: pre-wrap;\n",
       "                    \">\n",
       "                        2025-04-28 00:15:59.465 Thread 'MainThread': missing ScriptRunContext! This warning can be ignored when running in bare mode.\n",
       "                    </div>\n",
       "                    "
      ],
      "text/plain": [
       "<IPython.core.display.HTML object>"
      ]
     },
     "metadata": {},
     "output_type": "display_data"
    },
    {
     "data": {
      "text/html": [
       "\n",
       "                    <div style=\"\n",
       "                        color: #a71d5d;\n",
       "                        background-color: #fdd;\n",
       "                        border: 1px solid #a71d5d;\n",
       "                        padding: 5px;\n",
       "                        border-radius: 5px;\n",
       "                        font-family: Consolas, 'Courier New', monospace;\n",
       "                        white-space: pre-wrap;\n",
       "                    \">\n",
       "                        2025-04-28 00:15:59.466 Thread 'MainThread': missing ScriptRunContext! This warning can be ignored when running in bare mode.\n",
       "                    </div>\n",
       "                    "
      ],
      "text/plain": [
       "<IPython.core.display.HTML object>"
      ]
     },
     "metadata": {},
     "output_type": "display_data"
    },
    {
     "data": {
      "text/html": [
       "\n",
       "                    <div style=\"\n",
       "                        color: #a71d5d;\n",
       "                        background-color: #fdd;\n",
       "                        border: 1px solid #a71d5d;\n",
       "                        padding: 5px;\n",
       "                        border-radius: 5px;\n",
       "                        font-family: Consolas, 'Courier New', monospace;\n",
       "                        white-space: pre-wrap;\n",
       "                    \">\n",
       "                        2025-04-28 00:15:59.466 Thread 'MainThread': missing ScriptRunContext! This warning can be ignored when running in bare mode.\n",
       "                    </div>\n",
       "                    "
      ],
      "text/plain": [
       "<IPython.core.display.HTML object>"
      ]
     },
     "metadata": {},
     "output_type": "display_data"
    },
    {
     "data": {
      "text/html": [
       "\n",
       "                    <div style=\"\n",
       "                        color: #a71d5d;\n",
       "                        background-color: #fdd;\n",
       "                        border: 1px solid #a71d5d;\n",
       "                        padding: 5px;\n",
       "                        border-radius: 5px;\n",
       "                        font-family: Consolas, 'Courier New', monospace;\n",
       "                        white-space: pre-wrap;\n",
       "                    \">\n",
       "                        2025-04-28 00:15:59.466 Thread 'MainThread': missing ScriptRunContext! This warning can be ignored when running in bare mode.\n",
       "                    </div>\n",
       "                    "
      ],
      "text/plain": [
       "<IPython.core.display.HTML object>"
      ]
     },
     "metadata": {},
     "output_type": "display_data"
    },
    {
     "data": {
      "text/html": [
       "\n",
       "                    <div style=\"\n",
       "                        color: #a71d5d;\n",
       "                        background-color: #fdd;\n",
       "                        border: 1px solid #a71d5d;\n",
       "                        padding: 5px;\n",
       "                        border-radius: 5px;\n",
       "                        font-family: Consolas, 'Courier New', monospace;\n",
       "                        white-space: pre-wrap;\n",
       "                    \">\n",
       "                        2025-04-28 00:15:59.468 Thread 'MainThread': missing ScriptRunContext! This warning can be ignored when running in bare mode.\n",
       "                    </div>\n",
       "                    "
      ],
      "text/plain": [
       "<IPython.core.display.HTML object>"
      ]
     },
     "metadata": {},
     "output_type": "display_data"
    },
    {
     "data": {
      "text/html": [
       "\n",
       "                    <div style=\"\n",
       "                        color: #a71d5d;\n",
       "                        background-color: #fdd;\n",
       "                        border: 1px solid #a71d5d;\n",
       "                        padding: 5px;\n",
       "                        border-radius: 5px;\n",
       "                        font-family: Consolas, 'Courier New', monospace;\n",
       "                        white-space: pre-wrap;\n",
       "                    \">\n",
       "                        2025-04-28 00:15:59.468 Thread 'MainThread': missing ScriptRunContext! This warning can be ignored when running in bare mode.\n",
       "                    </div>\n",
       "                    "
      ],
      "text/plain": [
       "<IPython.core.display.HTML object>"
      ]
     },
     "metadata": {},
     "output_type": "display_data"
    },
    {
     "data": {
      "text/html": [
       "\n",
       "                    <div style=\"\n",
       "                        color: #a71d5d;\n",
       "                        background-color: #fdd;\n",
       "                        border: 1px solid #a71d5d;\n",
       "                        padding: 5px;\n",
       "                        border-radius: 5px;\n",
       "                        font-family: Consolas, 'Courier New', monospace;\n",
       "                        white-space: pre-wrap;\n",
       "                    \">\n",
       "                        2025-04-28 00:15:59.469 Session state does not function when running a script without `streamlit run`\n",
       "                    </div>\n",
       "                    "
      ],
      "text/plain": [
       "<IPython.core.display.HTML object>"
      ]
     },
     "metadata": {},
     "output_type": "display_data"
    },
    {
     "data": {
      "text/html": [
       "\n",
       "                    <div style=\"\n",
       "                        color: #a71d5d;\n",
       "                        background-color: #fdd;\n",
       "                        border: 1px solid #a71d5d;\n",
       "                        padding: 5px;\n",
       "                        border-radius: 5px;\n",
       "                        font-family: Consolas, 'Courier New', monospace;\n",
       "                        white-space: pre-wrap;\n",
       "                    \">\n",
       "                        2025-04-28 00:15:59.469 Thread 'MainThread': missing ScriptRunContext! This warning can be ignored when running in bare mode.\n",
       "                    </div>\n",
       "                    "
      ],
      "text/plain": [
       "<IPython.core.display.HTML object>"
      ]
     },
     "metadata": {},
     "output_type": "display_data"
    },
    {
     "data": {
      "text/html": [
       "\n",
       "                    <div style=\"\n",
       "                        color: #a71d5d;\n",
       "                        background-color: #fdd;\n",
       "                        border: 1px solid #a71d5d;\n",
       "                        padding: 5px;\n",
       "                        border-radius: 5px;\n",
       "                        font-family: Consolas, 'Courier New', monospace;\n",
       "                        white-space: pre-wrap;\n",
       "                    \">\n",
       "                        2025-04-28 00:15:59.470 Thread 'MainThread': missing ScriptRunContext! This warning can be ignored when running in bare mode.\n",
       "                    </div>\n",
       "                    "
      ],
      "text/plain": [
       "<IPython.core.display.HTML object>"
      ]
     },
     "metadata": {},
     "output_type": "display_data"
    },
    {
     "data": {
      "text/html": [
       "\n",
       "                    <div style=\"\n",
       "                        color: #a71d5d;\n",
       "                        background-color: #fdd;\n",
       "                        border: 1px solid #a71d5d;\n",
       "                        padding: 5px;\n",
       "                        border-radius: 5px;\n",
       "                        font-family: Consolas, 'Courier New', monospace;\n",
       "                        white-space: pre-wrap;\n",
       "                    \">\n",
       "                        2025-04-28 00:15:59.470 Thread 'MainThread': missing ScriptRunContext! This warning can be ignored when running in bare mode.\n",
       "                    </div>\n",
       "                    "
      ],
      "text/plain": [
       "<IPython.core.display.HTML object>"
      ]
     },
     "metadata": {},
     "output_type": "display_data"
    },
    {
     "data": {
      "text/html": [
       "\n",
       "                    <div style=\"\n",
       "                        color: #a71d5d;\n",
       "                        background-color: #fdd;\n",
       "                        border: 1px solid #a71d5d;\n",
       "                        padding: 5px;\n",
       "                        border-radius: 5px;\n",
       "                        font-family: Consolas, 'Courier New', monospace;\n",
       "                        white-space: pre-wrap;\n",
       "                    \">\n",
       "                        2025-04-28 00:15:59.471 Thread 'MainThread': missing ScriptRunContext! This warning can be ignored when running in bare mode.\n",
       "                    </div>\n",
       "                    "
      ],
      "text/plain": [
       "<IPython.core.display.HTML object>"
      ]
     },
     "metadata": {},
     "output_type": "display_data"
    },
    {
     "data": {
      "text/html": [
       "\n",
       "                    <div style=\"\n",
       "                        color: #a71d5d;\n",
       "                        background-color: #fdd;\n",
       "                        border: 1px solid #a71d5d;\n",
       "                        padding: 5px;\n",
       "                        border-radius: 5px;\n",
       "                        font-family: Consolas, 'Courier New', monospace;\n",
       "                        white-space: pre-wrap;\n",
       "                    \">\n",
       "                        2025-04-28 00:15:59.471 Thread 'MainThread': missing ScriptRunContext! This warning can be ignored when running in bare mode.\n",
       "                    </div>\n",
       "                    "
      ],
      "text/plain": [
       "<IPython.core.display.HTML object>"
      ]
     },
     "metadata": {},
     "output_type": "display_data"
    },
    {
     "data": {
      "text/html": [
       "\n",
       "                    <div style=\"\n",
       "                        color: #a71d5d;\n",
       "                        background-color: #fdd;\n",
       "                        border: 1px solid #a71d5d;\n",
       "                        padding: 5px;\n",
       "                        border-radius: 5px;\n",
       "                        font-family: Consolas, 'Courier New', monospace;\n",
       "                        white-space: pre-wrap;\n",
       "                    \">\n",
       "                        2025-04-28 00:15:59.472 Thread 'MainThread': missing ScriptRunContext! This warning can be ignored when running in bare mode.\n",
       "                    </div>\n",
       "                    "
      ],
      "text/plain": [
       "<IPython.core.display.HTML object>"
      ]
     },
     "metadata": {},
     "output_type": "display_data"
    },
    {
     "data": {
      "text/html": [
       "\n",
       "                    <div style=\"\n",
       "                        color: #a71d5d;\n",
       "                        background-color: #fdd;\n",
       "                        border: 1px solid #a71d5d;\n",
       "                        padding: 5px;\n",
       "                        border-radius: 5px;\n",
       "                        font-family: Consolas, 'Courier New', monospace;\n",
       "                        white-space: pre-wrap;\n",
       "                    \">\n",
       "                        2025-04-28 00:15:59.472 Thread 'MainThread': missing ScriptRunContext! This warning can be ignored when running in bare mode.\n",
       "                    </div>\n",
       "                    "
      ],
      "text/plain": [
       "<IPython.core.display.HTML object>"
      ]
     },
     "metadata": {},
     "output_type": "display_data"
    },
    {
     "data": {
      "text/html": [
       "\n",
       "                    <div style=\"\n",
       "                        color: #a71d5d;\n",
       "                        background-color: #fdd;\n",
       "                        border: 1px solid #a71d5d;\n",
       "                        padding: 5px;\n",
       "                        border-radius: 5px;\n",
       "                        font-family: Consolas, 'Courier New', monospace;\n",
       "                        white-space: pre-wrap;\n",
       "                    \">\n",
       "                        2025-04-28 00:15:59.472 Thread 'MainThread': missing ScriptRunContext! This warning can be ignored when running in bare mode.\n",
       "                    </div>\n",
       "                    "
      ],
      "text/plain": [
       "<IPython.core.display.HTML object>"
      ]
     },
     "metadata": {},
     "output_type": "display_data"
    },
    {
     "data": {
      "text/html": [
       "\n",
       "                    <div style=\"\n",
       "                        color: #a71d5d;\n",
       "                        background-color: #fdd;\n",
       "                        border: 1px solid #a71d5d;\n",
       "                        padding: 5px;\n",
       "                        border-radius: 5px;\n",
       "                        font-family: Consolas, 'Courier New', monospace;\n",
       "                        white-space: pre-wrap;\n",
       "                    \">\n",
       "                        2025-04-28 00:15:59.473 Thread 'MainThread': missing ScriptRunContext! This warning can be ignored when running in bare mode.\n",
       "                    </div>\n",
       "                    "
      ],
      "text/plain": [
       "<IPython.core.display.HTML object>"
      ]
     },
     "metadata": {},
     "output_type": "display_data"
    },
    {
     "data": {
      "text/html": [
       "\n",
       "                    <div style=\"\n",
       "                        color: #a71d5d;\n",
       "                        background-color: #fdd;\n",
       "                        border: 1px solid #a71d5d;\n",
       "                        padding: 5px;\n",
       "                        border-radius: 5px;\n",
       "                        font-family: Consolas, 'Courier New', monospace;\n",
       "                        white-space: pre-wrap;\n",
       "                    \">\n",
       "                        2025-04-28 00:15:59.473 Thread 'MainThread': missing ScriptRunContext! This warning can be ignored when running in bare mode.\n",
       "                    </div>\n",
       "                    "
      ],
      "text/plain": [
       "<IPython.core.display.HTML object>"
      ]
     },
     "metadata": {},
     "output_type": "display_data"
    }
   ],
   "source": [
    "import streamlit as st\n",
    "from transformers import pipeline, AutoTokenizer, AutoModelForSequenceClassification\n",
    "import matplotlib.pyplot as plt\n",
    "\n",
    "# Page title\n",
    "st.set_page_config(page_title=\"SAT-2 Text Classifier\", layout=\"centered\")\n",
    "st.title(\"📚 SAT-2 English Text Classifier\")\n",
    "st.write(\n",
    "    \"This app uses a fine-tuned DistilBERT model to classify text related to SAT-2 English exam topics.\"\n",
    ")\n",
    "\n",
    "# Text input\n",
    "user_input = st.text_area(\"Enter your text below:\", height=200)\n",
    "\n",
    "# Help and examples\n",
    "with st.expander(\"💡 Help & Examples\"):\n",
    "    st.markdown(\n",
    "        \"\"\"\n",
    "    - This model is fine-tuned to recognize topics in English SAT-2 exam texts.\n",
    "    - Try pasting a paragraph from a literature article or grammar question.\n",
    "    - **Example Input:** _'The protagonist's moral struggle illustrates the conflict between personal duty and societal norms.'_\n",
    "    \"\"\"\n",
    "    )\n",
    "\n",
    "# Button to run classification\n",
    "if st.button(\"Classify\"):\n",
    "    if user_input.strip() == \"\":\n",
    "        st.error(\"❗ Please enter some text to classify.\")\n",
    "    else:\n",
    "        with st.spinner(\"Classifying...\"):\n",
    "            try:\n",
    "                # Load model and tokenizer\n",
    "                tokenizer = AutoTokenizer.from_pretrained(\n",
    "                    \"distilbert-base-uncased-finetuned-sst-2-english\"\n",
    "                )\n",
    "                model = AutoModelForSequenceClassification.from_pretrained(\n",
    "                    \"distilbert-base-uncased-finetuned-sst-2-english\",\n",
    "                    trust_remote_code=True,\n",
    "                )\n",
    "\n",
    "                # Prepare pipeline\n",
    "                classifier = pipeline(\n",
    "                    \"text-classification\", model=model, tokenizer=tokenizer\n",
    "                )\n",
    "\n",
    "                # Perform classification\n",
    "                result = classifier(user_input)[0]\n",
    "\n",
    "                # Display results\n",
    "                st.success(\"✅ Classification Result\")\n",
    "                st.markdown(f\"### 🏷️ Predicted Label: `{result['label']}`\")\n",
    "                st.markdown(f\"### 🔢 Confidence Score: `{result['score']:.4f}`\")\n",
    "\n",
    "                # Optional bar visualization\n",
    "                st.bar_chart({\"Confidence\": [result[\"score\"]]})\n",
    "\n",
    "            except Exception as e:\n",
    "                st.error(\"⚠️ An error occurred during classification.\")\n",
    "                st.text(f\"Details: {e}\")\n"
   ]
  },
  {
   "cell_type": "code",
   "execution_count": 15,
   "id": "97fcaaad-694f-476b-9789-596bb703e11a",
   "metadata": {},
   "outputs": [
    {
     "name": "stdout",
     "output_type": "stream",
     "text": [
      "\u001b[2K\u001b[32m⠼\u001b[0m Connecting to=hpc_cpu... status=CONNECTED\n",
      "\u001b[1A\u001b[2K\u001b[2J\u001b[H"
     ]
    },
    {
     "data": {
      "text/html": [
       "\n",
       "                    <div style=\"\n",
       "                        color: #a71d5d;\n",
       "                        background-color: #fdd;\n",
       "                        border: 1px solid #a71d5d;\n",
       "                        padding: 5px;\n",
       "                        border-radius: 5px;\n",
       "                        font-family: Consolas, 'Courier New', monospace;\n",
       "                        white-space: pre-wrap;\n",
       "                    \">\n",
       "                        UsageError: Line magic function `%streamlit` not found.\n",
       "                    </div>\n",
       "                    "
      ],
      "text/plain": [
       "<IPython.core.display.HTML object>"
      ]
     },
     "metadata": {},
     "output_type": "display_data"
    }
   ],
   "source": [
    "%streamlit run app.py"
   ]
  },
  {
   "cell_type": "code",
   "execution_count": null,
   "id": "a3957cdf-dec7-436e-909d-b88d7d897c49",
   "metadata": {},
   "outputs": [],
   "source": [
    "!streamlist run app.py"
   ]
  },
  {
   "cell_type": "code",
   "execution_count": 23,
   "id": "6c2affb7-1e52-48ce-84d7-34d839b0ac88",
   "metadata": {
    "editable": true,
    "slideshow": {
     "slide_type": ""
    },
    "tags": []
   },
   "outputs": [
    {
     "name": "stdout",
     "output_type": "stream",
     "text": [
      "\u001b[2K\u001b[32m⠸\u001b[0m Connecting to=hpc_cpu... status=CONNECTED\n",
      "\u001b[1A\u001b[2K\u001b[2J\u001b[H"
     ]
    },
    {
     "data": {
      "text/html": [
       "\n",
       "                    <div style=\"\n",
       "                        color: #a71d5d;\n",
       "                        background-color: #fdd;\n",
       "                        border: 1px solid #a71d5d;\n",
       "                        padding: 5px;\n",
       "                        border-radius: 5px;\n",
       "                        font-family: Consolas, 'Courier New', monospace;\n",
       "                        white-space: pre-wrap;\n",
       "                    \">\n",
       "                        huggingface/tokenizers: The current process just got forked, after parallelism has already been used. Disabling parallelism to avoid deadlocks...\n",
       "To disable this warning, you can either:\n",
       "\t- Avoid using `tokenizers` before the fork if possible\n",
       "\t- Explicitly set the environment variable TOKENIZERS_PARALLELISM=(true | false)\n",
       "                    </div>\n",
       "                    "
      ],
      "text/plain": [
       "<IPython.core.display.HTML object>"
      ]
     },
     "metadata": {},
     "output_type": "display_data"
    }
   ],
   "source": [
    "!export TOKENIZERS_PARALLELISM=false"
   ]
  },
  {
   "cell_type": "code",
   "execution_count": null,
   "id": "489f80a3-d379-4336-bcdc-1d362b825ba1",
   "metadata": {},
   "outputs": [],
   "source": []
  }
 ],
 "metadata": {
  "kernelspec": {
   "display_name": "Python 3 (ipykernel)",
   "language": "python",
   "name": "python3"
  },
  "language_info": {
   "codemirror_mode": {
    "name": "ipython",
    "version": 3
   },
   "file_extension": ".py",
   "mimetype": "text/x-python",
   "name": "python",
   "nbconvert_exporter": "python",
   "pygments_lexer": "ipython3",
   "version": "3.11.6"
  }
 },
 "nbformat": 4,
 "nbformat_minor": 5
}
