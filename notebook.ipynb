{
 "cells": [
  {
   "cell_type": "code",
   "execution_count": 3,
   "id": "2e7f89c8-9cad-4de6-ba15-c823a61e6268",
   "metadata": {
    "editable": true,
    "slideshow": {
     "slide_type": ""
    },
    "tags": []
   },
   "outputs": [
    {
     "name": "stdout",
     "output_type": "stream",
     "text": [
      "\u001b[31mERROR: pip's dependency resolver does not currently take into account all the packages that are installed. This behaviour is the source of the following dependency conflicts.\n",
      "pyopenssl 23.2.0 requires cryptography!=40.0.0,!=40.0.1,<42,>=38.0.0, but you have cryptography 44.0.2 which is incompatible.\u001b[0m\u001b[31m\n",
      "\u001b[0mNote: you may need to restart the kernel to use updated packages.\n",
      "\n",
      "Loaded airavata_jupyter_magic (2.0.12) \n",
      "(current runtime = local)\n",
      "\n",
      "  %authenticate                      -- Authenticate to access high-performance runtimes.\n",
      "  %request_runtime <rt> [args]       -- Request a runtime named <rt> with configuration <args>. Call multiple times to request multiple runtimes.\n",
      "  %restart_runtime <rt>              -- Restart runtime <rt>. Run this if you install new dependencies or if the runtime hangs.\n",
      "  %stop_runtime <rt>                 -- Stop runtime <rt> when no longer needed.\n",
      "  %switch_runtime <rt>               -- Switch active runtime to <rt>. All subsequent executions will use this runtime.\n",
      "  %%run_on <rt>                      -- Force a cell to always execute on <rt>, regardless of the active runtime.\n",
      "  %stat_runtime <rt>                 -- Show the status of runtime <rt>.\n",
      "  %copy_data <r1:file1> <r2:file2>   -- Copy <file1> in <r1> to <file2> in <r2>.\n",
      "\n"
     ]
    }
   ],
   "source": [
    "%pip install -q --no-cache-dir --force-reinstall airavata-python-sdk[notebook]\n",
    "import airavata_jupyter_magic\n",
    "%pip install 'transformers[torch]' streamlit matplotlib"
   ]
  },
  {
   "cell_type": "code",
   "execution_count": 10,
   "id": "bd1af0c5-7796-4688-ab59-b7d776c36416",
   "metadata": {},
   "outputs": [
    {
     "data": {
      "application/vnd.jupyter.widget-view+json": {
       "model_id": "",
       "version_major": 2,
       "version_minor": 0
      },
      "text/plain": [
       "Output()"
      ]
     },
     "metadata": {},
     "output_type": "display_data"
    },
    {
     "data": {
      "text/html": [
       "<pre style=\"white-space:pre;overflow-x:auto;line-height:normal;font-family:Menlo,'DejaVu Sans Mono',consolas,'Courier New',monospace\">Authenticated.\n",
       "</pre>\n"
      ],
      "text/plain": [
       "Authenticated.\n"
      ]
     },
     "metadata": {},
     "output_type": "display_data"
    },
    {
     "data": {
      "text/html": [
       "<pre style=\"white-space:pre;overflow-x:auto;line-height:normal;font-family:Menlo,'DejaVu Sans Mono',consolas,'Courier New',monospace\"></pre>\n"
      ],
      "text/plain": []
     },
     "metadata": {},
     "output_type": "display_data"
    },
    {
     "data": {
      "text/html": [
       "<pre style=\"white-space:pre;overflow-x:auto;line-height:normal;font-family:Menlo,'DejaVu Sans Mono',consolas,'Courier New',monospace\"></pre>\n"
      ],
      "text/plain": []
     },
     "metadata": {},
     "output_type": "display_data"
    },
    {
     "name": "stdout",
     "output_type": "stream",
     "text": [
      "Requesting runtime=hpc_cpu\n",
      "cpuCount: 4\n",
      "experimentName: CS_Agent\n",
      "group: Default\n",
      "libraries:\n",
      "- python=3.10\n",
      "- pip\n",
      "memory: 4096\n",
      "mounts: []\n",
      "nodeCount: 1\n",
      "pip:\n",
      "- streamlit\n",
      "- transformers\n",
      "- torch\n",
      "- matplotlib\n",
      "queue: cloud\n",
      "remoteCluster: NeuroData25VC1\n",
      "wallTime: 60\n",
      "\n",
      "Requested runtime=hpc_cpu. state=CONFIGURING_WORKSPACE\n",
      "Switched to runtime=hpc_cpu.\n"
     ]
    }
   ],
   "source": [
    "%authenticate\n",
    "%request_runtime hpc_cpu --file=cybershuttle.yml --walltime=60 --use=NeuroData25VC1:cloud,expanse:shared,anvil:shared\n",
    "%switch_runtime hpc_cpu"
   ]
  },
  {
   "cell_type": "code",
   "execution_count": 11,
   "id": "c6badcb4",
   "metadata": {
    "editable": true,
    "slideshow": {
     "slide_type": ""
    },
    "tags": []
   },
   "outputs": [
    {
     "name": "stdout",
     "output_type": "stream",
     "text": [
      "\u001b[2K\u001b[32m⠇\u001b[0m Connecting to=hpc_cpu... status=CONNECTEDWORKSPACE\n",
      "\u001b[1A\u001b[2K\u001b[2J\u001b[H"
     ]
    },
    {
     "data": {
      "text/html": [
       "\n",
       "                    <div style=\"\n",
       "                        color: #a71d5d;\n",
       "                        background-color: #fdd;\n",
       "                        border: 1px solid #a71d5d;\n",
       "                        padding: 5px;\n",
       "                        border-radius: 5px;\n",
       "                        font-family: Consolas, 'Courier New', monospace;\n",
       "                        white-space: pre-wrap;\n",
       "                    \">\n",
       "                        /scratch/envs/f763bffb/lib/python3.10/site-packages/tqdm/auto.py:21: TqdmWarning: IProgress not found. Please update jupyter and ipywidgets. See https://ipywidgets.readthedocs.io/en/stable/user_install.html\n",
       "  from .autonotebook import tqdm as notebook_tqdm\n",
       "                    </div>\n",
       "                    "
      ],
      "text/plain": [
       "<IPython.core.display.HTML object>"
      ]
     },
     "metadata": {},
     "output_type": "display_data"
    },
    {
     "data": {
      "text/html": [
       "\n",
       "                    <div style=\"\n",
       "                        color: #a71d5d;\n",
       "                        background-color: #fdd;\n",
       "                        border: 1px solid #a71d5d;\n",
       "                        padding: 5px;\n",
       "                        border-radius: 5px;\n",
       "                        font-family: Consolas, 'Courier New', monospace;\n",
       "                        white-space: pre-wrap;\n",
       "                    \">\n",
       "                        Xet Storage is enabled for this repo, but the 'hf_xet' package is not installed. Falling back to regular HTTP download. For better performance, install the package with: `pip install huggingface_hub[hf_xet]` or `pip install hf_xet`\n",
       "                    </div>\n",
       "                    "
      ],
      "text/plain": [
       "<IPython.core.display.HTML object>"
      ]
     },
     "metadata": {},
     "output_type": "display_data"
    },
    {
     "data": {
      "text/html": [
       "\n",
       "                    <div style=\"\n",
       "                        color: #a71d5d;\n",
       "                        background-color: #fdd;\n",
       "                        border: 1px solid #a71d5d;\n",
       "                        padding: 5px;\n",
       "                        border-radius: 5px;\n",
       "                        font-family: Consolas, 'Courier New', monospace;\n",
       "                        white-space: pre-wrap;\n",
       "                    \">\n",
       "                        Device set to use cpu\n",
       "                    </div>\n",
       "                    "
      ],
      "text/plain": [
       "<IPython.core.display.HTML object>"
      ]
     },
     "metadata": {},
     "output_type": "display_data"
    },
    {
     "name": "stdout",
     "output_type": "stream",
     "text": [
      "Label: NEGATIVE\n",
      "Confidence: 0.9471\n",
      "Inference time: 3.01 seconds\n"
     ]
    }
   ],
   "source": [
    "import sys\n",
    "import time\n",
    "from transformers import pipeline, AutoTokenizer, AutoModelForSequenceClassification\n",
    "\n",
    "\n",
    "start = time.time()\n",
    "# Get input text from command-line argument\n",
    "user_input = \"The protagonist faced internal conflict.\" #sys.argv[1]\n",
    "\n",
    "# Load model and tokenizer\n",
    "tokenizer = AutoTokenizer.from_pretrained(\"distilbert-base-uncased-finetuned-sst-2-english\")\n",
    "model = AutoModelForSequenceClassification.from_pretrained(\"distilbert-base-uncased-finetuned-sst-2-english\", trust_remote_code=True)\n",
    "classifier = pipeline(\"text-classification\", model=model, tokenizer=tokenizer)\n",
    "\n",
    "# Run classification\n",
    "result = classifier(user_input)[0]\n",
    "\n",
    "# Print result to stdout\n",
    "print(f\"Label: {result['label']}\")\n",
    "print(f\"Confidence: {result['score']:.4f}\")\n",
    "end = time.time()\n",
    "print(f\"Inference time: {end - start:.2f} seconds\")"
   ]
  },
  {
   "cell_type": "code",
   "execution_count": null,
   "id": "1096443d-b730-4d11-b15b-caf3cef497ef",
   "metadata": {
    "editable": true,
    "slideshow": {
     "slide_type": ""
    },
    "tags": []
   },
   "outputs": [],
   "source": []
  }
 ],
 "metadata": {
  "kernelspec": {
   "display_name": "Python 3 (ipykernel)",
   "language": "python",
   "name": "python3"
  },
  "language_info": {
   "codemirror_mode": {
    "name": "ipython",
    "version": 3
   },
   "file_extension": ".py",
   "mimetype": "text/x-python",
   "name": "python",
   "nbconvert_exporter": "python",
   "pygments_lexer": "ipython3",
   "version": "3.11.6"
  }
 },
 "nbformat": 4,
 "nbformat_minor": 5
}
